{
 "cells": [
  {
   "cell_type": "markdown",
   "metadata": {},
   "source": [
    "# Connect to database"
   ]
  },
  {
   "cell_type": "code",
   "execution_count": 3,
   "metadata": {},
   "outputs": [
    {
     "data": {
      "text/html": [
       "<div>\n",
       "<style scoped>\n",
       "    .dataframe tbody tr th:only-of-type {\n",
       "        vertical-align: middle;\n",
       "    }\n",
       "\n",
       "    .dataframe tbody tr th {\n",
       "        vertical-align: top;\n",
       "    }\n",
       "\n",
       "    .dataframe thead th {\n",
       "        text-align: right;\n",
       "    }\n",
       "</style>\n",
       "<table border=\"1\" class=\"dataframe\">\n",
       "  <thead>\n",
       "    <tr style=\"text-align: right;\">\n",
       "      <th></th>\n",
       "      <th>Förvaltning</th>\n",
       "      <th>Leverantör</th>\n",
       "      <th>Organisationsnummer</th>\n",
       "      <th>Verifikationsnummer</th>\n",
       "      <th>Konto</th>\n",
       "      <th>Kontotext</th>\n",
       "      <th>Belopp exkl moms</th>\n",
       "    </tr>\n",
       "  </thead>\n",
       "  <tbody>\n",
       "    <tr>\n",
       "      <th>0</th>\n",
       "      <td>163 - Socialnämnden Nordost</td>\n",
       "      <td>NICOLE AJAKAYE</td>\n",
       "      <td>None</td>\n",
       "      <td>1631114400</td>\n",
       "      <td>7499</td>\n",
       "      <td>Övriga främmande tjänster</td>\n",
       "      <td>35 000,00</td>\n",
       "    </tr>\n",
       "    <tr>\n",
       "      <th>1</th>\n",
       "      <td>163 - Socialnämnden Nordost</td>\n",
       "      <td>POLISMYNDIGHETEN I VÄSTRA GÖTALAND</td>\n",
       "      <td>2021000076</td>\n",
       "      <td>1631112249</td>\n",
       "      <td>7499</td>\n",
       "      <td>Övriga främmande tjänster</td>\n",
       "      <td>1 740,00</td>\n",
       "    </tr>\n",
       "    <tr>\n",
       "      <th>2</th>\n",
       "      <td>300 - Stadsbyggnadsnämnden</td>\n",
       "      <td>POLISMYNDIGHETEN I VÄSTRA GÖTALAND</td>\n",
       "      <td>2021000076</td>\n",
       "      <td>3001072870</td>\n",
       "      <td>7499</td>\n",
       "      <td>Övriga främmande tjänster</td>\n",
       "      <td>1 000,00</td>\n",
       "    </tr>\n",
       "    <tr>\n",
       "      <th>3</th>\n",
       "      <td>300 - Stadsbyggnadsnämnden</td>\n",
       "      <td>POLISMYNDIGHETEN I VÄSTRA GÖTALAND</td>\n",
       "      <td>2021000076</td>\n",
       "      <td>3001072852</td>\n",
       "      <td>7499</td>\n",
       "      <td>Övriga främmande tjänster</td>\n",
       "      <td>7 000,00</td>\n",
       "    </tr>\n",
       "    <tr>\n",
       "      <th>4</th>\n",
       "      <td>560 - Kretslopp och vattennämnden</td>\n",
       "      <td>POLISMYNDIGHETEN I VÄSTRA GÖTALAND</td>\n",
       "      <td>2021000076</td>\n",
       "      <td>5601374600</td>\n",
       "      <td>7231</td>\n",
       "      <td>Reklam och information</td>\n",
       "      <td>1 740,00</td>\n",
       "    </tr>\n",
       "  </tbody>\n",
       "</table>\n",
       "</div>"
      ],
      "text/plain": [
       "                         Förvaltning                          Leverantör  \\\n",
       "0        163 - Socialnämnden Nordost                      NICOLE AJAKAYE   \n",
       "1        163 - Socialnämnden Nordost  POLISMYNDIGHETEN I VÄSTRA GÖTALAND   \n",
       "2         300 - Stadsbyggnadsnämnden  POLISMYNDIGHETEN I VÄSTRA GÖTALAND   \n",
       "3         300 - Stadsbyggnadsnämnden  POLISMYNDIGHETEN I VÄSTRA GÖTALAND   \n",
       "4  560 - Kretslopp och vattennämnden  POLISMYNDIGHETEN I VÄSTRA GÖTALAND   \n",
       "\n",
       "  Organisationsnummer  Verifikationsnummer  Konto                  Kontotext  \\\n",
       "0                None           1631114400   7499  Övriga främmande tjänster   \n",
       "1          2021000076           1631112249   7499  Övriga främmande tjänster   \n",
       "2          2021000076           3001072870   7499  Övriga främmande tjänster   \n",
       "3          2021000076           3001072852   7499  Övriga främmande tjänster   \n",
       "4          2021000076           5601374600   7231     Reklam och information   \n",
       "\n",
       "  Belopp exkl moms  \n",
       "0        35 000,00  \n",
       "1         1 740,00  \n",
       "2         1 000,00  \n",
       "3         7 000,00  \n",
       "4         1 740,00  "
      ]
     },
     "execution_count": 3,
     "metadata": {},
     "output_type": "execute_result"
    }
   ],
   "source": [
    "from query_database import QueryDatabase\n",
    "\n",
    "df = QueryDatabase(\"SELECT * FROM supplier_invoice.invoice_202407;\").df\n",
    "df.head()"
   ]
  },
  {
   "cell_type": "code",
   "execution_count": 4,
   "metadata": {},
   "outputs": [
    {
     "data": {
      "text/plain": [
       "(114364, 7)"
      ]
     },
     "execution_count": 4,
     "metadata": {},
     "output_type": "execute_result"
    }
   ],
   "source": [
    "df.shape"
   ]
  },
  {
   "cell_type": "code",
   "execution_count": 5,
   "metadata": {},
   "outputs": [
    {
     "name": "stdout",
     "output_type": "stream",
     "text": [
      "<class 'pandas.core.frame.DataFrame'>\n",
      "RangeIndex: 114364 entries, 0 to 114363\n",
      "Data columns (total 7 columns):\n",
      " #   Column               Non-Null Count   Dtype \n",
      "---  ------               --------------   ----- \n",
      " 0   Förvaltning          114364 non-null  object\n",
      " 1   Leverantör           114364 non-null  object\n",
      " 2   Organisationsnummer  114189 non-null  object\n",
      " 3   Verifikationsnummer  114364 non-null  int64 \n",
      " 4   Konto                114364 non-null  int64 \n",
      " 5   Kontotext            114364 non-null  object\n",
      " 6   Belopp exkl moms     114364 non-null  object\n",
      "dtypes: int64(2), object(5)\n",
      "memory usage: 6.1+ MB\n"
     ]
    }
   ],
   "source": [
    "df.info()"
   ]
  },
  {
   "cell_type": "code",
   "execution_count": 6,
   "metadata": {},
   "outputs": [
    {
     "data": {
      "text/plain": [
       "0         35 000,00\n",
       "1          1 740,00\n",
       "2          1 000,00\n",
       "3          7 000,00\n",
       "4          1 740,00\n",
       "            ...    \n",
       "114359     7 435,12\n",
       "114360       -69,84\n",
       "114361      -446,11\n",
       "114362     1 164,03\n",
       "114363    18 515,99\n",
       "Name: Belopp exkl moms, Length: 114364, dtype: object"
      ]
     },
     "execution_count": 6,
     "metadata": {},
     "output_type": "execute_result"
    }
   ],
   "source": [
    "df[\"Belopp exkl moms\"]"
   ]
  },
  {
   "cell_type": "code",
   "execution_count": 10,
   "metadata": {},
   "outputs": [
    {
     "data": {
      "text/html": [
       "<div>\n",
       "<style scoped>\n",
       "    .dataframe tbody tr th:only-of-type {\n",
       "        vertical-align: middle;\n",
       "    }\n",
       "\n",
       "    .dataframe tbody tr th {\n",
       "        vertical-align: top;\n",
       "    }\n",
       "\n",
       "    .dataframe thead th {\n",
       "        text-align: right;\n",
       "    }\n",
       "</style>\n",
       "<table border=\"1\" class=\"dataframe\">\n",
       "  <thead>\n",
       "    <tr style=\"text-align: right;\">\n",
       "      <th></th>\n",
       "      <th>Förvaltning</th>\n",
       "      <th>Leverantör</th>\n",
       "      <th>Organisationsnummer</th>\n",
       "      <th>Verifikationsnummer</th>\n",
       "      <th>Konto</th>\n",
       "      <th>Kontotext</th>\n",
       "      <th>Belopp exkl moms</th>\n",
       "    </tr>\n",
       "  </thead>\n",
       "  <tbody>\n",
       "    <tr>\n",
       "      <th>0</th>\n",
       "      <td>163 - Socialnämnden Nordost</td>\n",
       "      <td>NICOLE AJAKAYE</td>\n",
       "      <td>None</td>\n",
       "      <td>1631114400</td>\n",
       "      <td>7499</td>\n",
       "      <td>Övriga främmande tjänster</td>\n",
       "      <td>35000</td>\n",
       "    </tr>\n",
       "    <tr>\n",
       "      <th>1</th>\n",
       "      <td>163 - Socialnämnden Nordost</td>\n",
       "      <td>POLISMYNDIGHETEN I VÄSTRA GÖTALAND</td>\n",
       "      <td>2021000076</td>\n",
       "      <td>1631112249</td>\n",
       "      <td>7499</td>\n",
       "      <td>Övriga främmande tjänster</td>\n",
       "      <td>1740</td>\n",
       "    </tr>\n",
       "    <tr>\n",
       "      <th>2</th>\n",
       "      <td>300 - Stadsbyggnadsnämnden</td>\n",
       "      <td>POLISMYNDIGHETEN I VÄSTRA GÖTALAND</td>\n",
       "      <td>2021000076</td>\n",
       "      <td>3001072870</td>\n",
       "      <td>7499</td>\n",
       "      <td>Övriga främmande tjänster</td>\n",
       "      <td>1000</td>\n",
       "    </tr>\n",
       "    <tr>\n",
       "      <th>3</th>\n",
       "      <td>300 - Stadsbyggnadsnämnden</td>\n",
       "      <td>POLISMYNDIGHETEN I VÄSTRA GÖTALAND</td>\n",
       "      <td>2021000076</td>\n",
       "      <td>3001072852</td>\n",
       "      <td>7499</td>\n",
       "      <td>Övriga främmande tjänster</td>\n",
       "      <td>7000</td>\n",
       "    </tr>\n",
       "    <tr>\n",
       "      <th>4</th>\n",
       "      <td>560 - Kretslopp och vattennämnden</td>\n",
       "      <td>POLISMYNDIGHETEN I VÄSTRA GÖTALAND</td>\n",
       "      <td>2021000076</td>\n",
       "      <td>5601374600</td>\n",
       "      <td>7231</td>\n",
       "      <td>Reklam och information</td>\n",
       "      <td>1740</td>\n",
       "    </tr>\n",
       "  </tbody>\n",
       "</table>\n",
       "</div>"
      ],
      "text/plain": [
       "                         Förvaltning                          Leverantör  \\\n",
       "0        163 - Socialnämnden Nordost                      NICOLE AJAKAYE   \n",
       "1        163 - Socialnämnden Nordost  POLISMYNDIGHETEN I VÄSTRA GÖTALAND   \n",
       "2         300 - Stadsbyggnadsnämnden  POLISMYNDIGHETEN I VÄSTRA GÖTALAND   \n",
       "3         300 - Stadsbyggnadsnämnden  POLISMYNDIGHETEN I VÄSTRA GÖTALAND   \n",
       "4  560 - Kretslopp och vattennämnden  POLISMYNDIGHETEN I VÄSTRA GÖTALAND   \n",
       "\n",
       "  Organisationsnummer  Verifikationsnummer  Konto                  Kontotext  \\\n",
       "0                None           1631114400   7499  Övriga främmande tjänster   \n",
       "1          2021000076           1631112249   7499  Övriga främmande tjänster   \n",
       "2          2021000076           3001072870   7499  Övriga främmande tjänster   \n",
       "3          2021000076           3001072852   7499  Övriga främmande tjänster   \n",
       "4          2021000076           5601374600   7231     Reklam och information   \n",
       "\n",
       "  Belopp exkl moms  \n",
       "0            35000  \n",
       "1             1740  \n",
       "2             1000  \n",
       "3             7000  \n",
       "4             1740  "
      ]
     },
     "execution_count": 10,
     "metadata": {},
     "output_type": "execute_result"
    }
   ],
   "source": [
    "df.loc[:, \"Belopp exkl moms\"] = df[\"Belopp exkl moms\"].str[:-3].str.replace(\" \", \"\").astype(int)\n",
    "df.head()"
   ]
  },
  {
   "cell_type": "code",
   "execution_count": null,
   "metadata": {},
   "outputs": [],
   "source": []
  }
 ],
 "metadata": {
  "kernelspec": {
   "display_name": ".venv",
   "language": "python",
   "name": "python3"
  },
  "language_info": {
   "codemirror_mode": {
    "name": "ipython",
    "version": 3
   },
   "file_extension": ".py",
   "mimetype": "text/x-python",
   "name": "python",
   "nbconvert_exporter": "python",
   "pygments_lexer": "ipython3",
   "version": "3.11.8"
  }
 },
 "nbformat": 4,
 "nbformat_minor": 2
}
